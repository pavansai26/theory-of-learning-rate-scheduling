{
  "nbformat": 4,
  "nbformat_minor": 0,
  "metadata": {
    "colab": {
      "name": "LEARNING RATE SCHHEDULER.ipynb",
      "provenance": [],
      "private_outputs": true,
      "authorship_tag": "ABX9TyNTAbYZvwUmjLekQ/2bHrQH",
      "include_colab_link": true
    },
    "kernelspec": {
      "name": "python3",
      "display_name": "Python 3"
    }
  },
  "cells": [
    {
      "cell_type": "markdown",
      "metadata": {
        "id": "view-in-github",
        "colab_type": "text"
      },
      "source": [
        "<a href=\"https://colab.research.google.com/github/pavansai26/theory-of-learning-rate-scheduling/blob/master/LEARNING_RATE_SCHHEDULER.ipynb\" target=\"_parent\"><img src=\"https://colab.research.google.com/assets/colab-badge.svg\" alt=\"Open In Colab\"/></a>"
      ]
    },
    {
      "cell_type": "code",
      "metadata": {
        "id": "CKxl3a0bBa2t",
        "colab_type": "code",
        "colab": {}
      },
      "source": [
        ""
      ],
      "execution_count": null,
      "outputs": []
    },
    {
      "cell_type": "markdown",
      "metadata": {
        "id": "4YXuD7tVBi5r",
        "colab_type": "text"
      },
      "source": [
        "## **what is learning rate scheduler**?"
      ]
    },
    {
      "cell_type": "markdown",
      "metadata": {
        "id": "mM6IE4RXL6aQ",
        "colab_type": "text"
      },
      "source": [
        "# **why we call learning rate scheduler ?**"
      ]
    },
    {
      "cell_type": "markdown",
      "metadata": {
        "id": "3YwPPTBzMJZZ",
        "colab_type": "text"
      },
      "source": [
        "# **why we go for  learning rate scheduler ?**"
      ]
    },
    {
      "cell_type": "markdown",
      "metadata": {
        "id": "8r5NnpHkBw5T",
        "colab_type": "text"
      },
      "source": [
        "# **how learning rate scheduler works?**"
      ]
    },
    {
      "cell_type": "markdown",
      "metadata": {
        "id": "lAB6vUc2Ma01",
        "colab_type": "text"
      },
      "source": [
        "# **what are the ways to do learning rate scheduling ?**"
      ]
    },
    {
      "cell_type": "markdown",
      "metadata": {
        "id": "X2TgExpiVegs",
        "colab_type": "text"
      },
      "source": [
        "# **what are the types of learning rate schedulers?**"
      ]
    },
    {
      "cell_type": "markdown",
      "metadata": {
        "id": "Cls0g8yKmGSQ",
        "colab_type": "text"
      },
      "source": [
        "# **1)SQUARE ROOT LEARNING RATE SCHEDULER**\n",
        "\n",
        "# **2)POLYNOMIAL LEARNING RATE SCHEDULER**\n",
        "\n",
        "# **3)TRIANGULAR LEARNING RATE SCHEDULER**\n",
        "\n",
        "# **4)COSINE ANNEALING LEARNING RATE SCHEDULER**\n",
        "\n",
        "# **5)LINEAR WARMUP LEARNING RATE SCHEDULER**\n",
        "\n",
        "# **6)LINEAR COOL DOWN LEARNING RATE SCHEDULER**\n",
        "\n",
        "# **7)ONE CYCLE LEARNING RATE SCHEDULER**\n",
        "\n",
        "# **8)CYCLICAL LEARNING RATE SCHEDULER**\n",
        "\n"
      ]
    },
    {
      "cell_type": "code",
      "metadata": {
        "id": "1Xe_lzvuBpTl",
        "colab_type": "code",
        "colab": {}
      },
      "source": [
        ""
      ],
      "execution_count": null,
      "outputs": []
    }
  ]
}